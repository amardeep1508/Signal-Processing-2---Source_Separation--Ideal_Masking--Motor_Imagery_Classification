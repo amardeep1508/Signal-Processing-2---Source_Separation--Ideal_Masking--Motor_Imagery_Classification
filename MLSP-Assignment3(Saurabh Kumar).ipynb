{
 "cells": [
  {
   "cell_type": "code",
   "execution_count": 1,
   "metadata": {
    "collapsed": true
   },
   "outputs": [],
   "source": [
    "#-------------------------------------------------------------------------------\n",
    "# Name:        module1\n",
    "# Purpose:\n",
    "#\n",
    "# Author:      Saurabh kumar\n",
    "#\n",
    "# Created:     30/09/2017\n",
    "# Copyright:   (c) Saurabh kumar 2017\n",
    "# Licence:     <your licence>\n",
    "#-------------------------------------------------------------------------------\n",
    "\n",
    "from PIL import Image\n",
    "import matplotlib.pyplot as plt\n",
    "import numpy as np\n",
    "from matplotlib import image\n",
    "import scipy.io\n",
    "import math as m\n",
    "%matplotlib inline\n",
    "import matplotlib.mlab as mlab\n",
    "from random import randint"
   ]
  },
  {
   "cell_type": "markdown",
   "metadata": {},
   "source": [
    "# Q1 Instantaneous Source Separation"
   ]
  },
  {
   "cell_type": "markdown",
   "metadata": {},
   "source": [
    "### 1.1"
   ]
  },
  {
   "cell_type": "code",
   "execution_count": 83,
   "metadata": {
    "collapsed": false
   },
   "outputs": [
    {
     "data": {
      "text/plain": [
       "(20, 76800)"
      ]
     },
     "execution_count": 83,
     "metadata": {},
     "output_type": "execute_result"
    }
   ],
   "source": [
    "import scipy.io.wavfile\n",
    "\n",
    "#Data Matrix\n",
    "X = []\n",
    "\n",
    "for i in range(20):\n",
    "    filename = \"x_ica_\"+str(i+1)+\".wav\"\n",
    "    signal = scipy.io.wavfile.read(filename, mmap=False)\n",
    "    sound = signal[1]\n",
    "    X.append(sound)\n",
    "X = np.array(X)\n",
    "X.shape"
   ]
  },
  {
   "cell_type": "code",
   "execution_count": 10,
   "metadata": {
    "collapsed": false
   },
   "outputs": [
    {
     "data": {
      "image/png": "[encoded data removed]",
      "text/plain": [
       "<matplotlib.figure.Figure at 0x793620a8d0>"
      ]
     },
     "metadata": {},
     "output_type": "display_data"
    }
   ],
   "source": [
    "plt.title(\"Original Sound\")\n",
    "plt.plot(sound)\n",
    "plt.show()"
   ]
  },
  {
   "cell_type": "markdown",
   "metadata": {},
   "source": [
    "### 1.4 PCA"
   ]
  },
  {
   "cell_type": "code",
   "execution_count": 84,
   "metadata": {
    "collapsed": false
   },
   "outputs": [],
   "source": [
    "def powerIteration(X):\n",
    "    v_i = np.random.rand(X.shape[1], 1)\n",
    "    for i in range(5000):\n",
    "        v_i = np.dot(X,v_i)\n",
    "        v_i /= np.linalg.norm(v_i)\n",
    "    return v_i  \n",
    "\n",
    "def PCA(X):\n",
    "    \n",
    "    mean = X.mean(axis=1)\n",
    "    Y = X - mean[:, np.newaxis]\n",
    "    YT = Y.T        \n",
    "    n = 20\n",
    "    #XT = X.T\n",
    "    covarianceMatrix = np.dot(Y, YT)/Y.shape[0]\n",
    "    eigenValue = np.zeros((Y.shape[0],1,n)) \n",
    "    eigenVector = np.zeros((Y.shape[0],1,n))\n",
    "    for i in range(n):\n",
    "        \n",
    "        eigenVector[:,:,i] = powerIteration(covarianceMatrix)\n",
    "        eigenValue[:,:,i] = np.dot(covarianceMatrix,eigenVector[:,:,i])/eigenVector[:,:,i]\n",
    "        covarianceMatrix = covarianceMatrix - eigenValue[:,:,i] * np.dot(eigenVector[:,:,i], eigenVector[:,:,i].T)\n",
    "        #covarianceMatrix.shape  \n",
    "        #print (eigenValue1.shape)\n",
    "        #print (eigenValue[0,0,i])\n",
    "    return (eigenVector, eigenValue,Y)\n",
    "    \n",
    "eigenVector, eigenValue, Y = PCA(X)"
   ]
  },
  {
   "cell_type": "code",
   "execution_count": 85,
   "metadata": {
    "collapsed": false
   },
   "outputs": [],
   "source": [
    "import math\n",
    "\n",
    "eigenVector = eigenVector.reshape((20,20))\n",
    "\n",
    "#Storing unnwhitened first three principal components\n",
    "X_3PC = np.dot(eigenVector, Y)\n",
    "\n",
    "#Whitening\n",
    "eigvec[0] = eigenVector[:,0]/math.sqrt(eigenValue[0,0,0])\n",
    "eigvec[1] = eigenVector[:,1]/math.sqrt(eigenValue[0,0,1])\n",
    "eigvec[2] = eigenVector[:,2]/math.sqrt(eigenValue[0,0,2])\n",
    "\n",
    "#Extracting first 3 principal components\n",
    "F3 = np.dot(np.vstack((eigvec[0], eigvec[1], eigvec[2])), Y)"
   ]
  },
  {
   "cell_type": "markdown",
   "metadata": {},
   "source": [
    "### 1.5 ICA"
   ]
  },
  {
   "cell_type": "code",
   "execution_count": 88,
   "metadata": {
    "collapsed": false
   },
   "outputs": [],
   "source": [
    "#Initialization for ICA Algorithm\n",
    "W = np.random.rand(3,3)\n",
    "Y = np.dot(W,F3)\n",
    "N = F3[0].size\n",
    "I = N * np.identity(3)\n",
    "\n",
    "\n",
    "#Learning rate parameter\n",
    "rho = 0.00001\n",
    "\n",
    "\"\"\"def f(x):\n",
    "    return x**3\n",
    "\n",
    "def g(x):\n",
    "    return math.tanh(x) \"\"\"\n",
    "\n",
    "\n",
    "#ICA Algorithm\n",
    "for i in range(10000):\n",
    "\n",
    "    g_Y = np.tanh(Y)\n",
    "    f_Y = (Y**3).T\n",
    "\n",
    "    dW = np.dot((I - g_Y.dot(f_Y)), W)\n",
    "\n",
    "    if(np.all(dW) < np.exp(-5)):\n",
    "        print (i)\n",
    "        break\n",
    "\n",
    "    W = W + rho*dW\n",
    "\n",
    "    Y = W.dot(Z)\n",
    "    \n",
    "#Recovering Steps\n",
    "d_re = np.zeros((3,N))\n",
    "\n",
    "d_re[0,:] = Y[0,:]\n",
    "d_re[1,:] = Y[1,:]\n",
    "d_re[2,:] = Y[2,:]\n",
    "\n",
    "#Scaling and encoding recovered sound\n",
    "dr_scale_1 = np.int16(d_re[0,:]/np.max(np.abs(d_re[0,:])) * 32767)\n",
    "dr_scale_2 = np.int16(d_re[1,:]/np.max(np.abs(d_re[1,:])) * 32767)\n",
    "dr_scale_3 = np.int16(d_re[2,:]/np.max(np.abs(d_re[2,:])) * 32767)\n",
    "\n",
    "scipy.io.wavfile.write('ica_recover_1.wav', 16000, dr_scale_1)\n",
    "scipy.io.wavfile.write('ica_recover_2.wav', 16000, dr_scale_2)\n",
    "scipy.io.wavfile.write('ica_recover_3.wav', 16000, dr_scale_3)"
   ]
  },
  {
   "cell_type": "code",
   "execution_count": 89,
   "metadata": {
    "collapsed": false
   },
   "outputs": [
    {
     "data": {
      "image/png": "[encoded data removed]",
      "text/plain": [
       "<matplotlib.figure.Figure at 0x79369c4ac8>"
      ]
     },
     "metadata": {},
     "output_type": "display_data"
    }
   ],
   "source": [
    "plt.title(\"Scale 1\")\n",
    "plt.plot(dr_scale_1)\n",
    "plt.show()"
   ]
  },
  {
   "cell_type": "code",
   "execution_count": 90,
   "metadata": {
    "collapsed": false
   },
   "outputs": [
    {
     "data": {
      "image/png": "[encoded data removed]",
      "text/plain": [
       "<matplotlib.figure.Figure at 0x79362430b8>"
      ]
     },
     "metadata": {},
     "output_type": "display_data"
    }
   ],
   "source": [
    "plt.title(\"Scale 2\")\n",
    "plt.plot(dr_scale_2)\n",
    "plt.show()"
   ]
  },
  {
   "cell_type": "code",
   "execution_count": 91,
   "metadata": {
    "collapsed": false
   },
   "outputs": [
    {
     "data": {
      "image/png": "[encoded data removed]",
      "text/plain": [
       "<matplotlib.figure.Figure at 0x79364a0ba8>"
      ]
     },
     "metadata": {},
     "output_type": "display_data"
    }
   ],
   "source": [
    "plt.title(\"Scale 3\")\n",
    "plt.plot(dr_scale_3)\n",
    "plt.show()"
   ]
  },
  {
   "cell_type": "markdown",
   "metadata": {},
   "source": [
    "# Q2 Ideal Masks"
   ]
  },
  {
   "cell_type": "markdown",
   "metadata": {},
   "source": [
    "### 2.1 "
   ]
  },
  {
   "cell_type": "code",
   "execution_count": 109,
   "metadata": {
    "collapsed": false
   },
   "outputs": [
    {
     "name": "stderr",
     "output_type": "stream",
     "text": [
      "C:\\Anaconda3\\lib\\site-packages\\scipy\\io\\wavfile.py:273: WavFileWarning: Chunk (non-data) not understood, skipping it.\n",
      "  WavFileWarning)\n"
     ]
    }
   ],
   "source": [
    "S1 = scwa.read(\"piano.wav\")\n",
    "T1 = scwa.read(\"ocean.wav\")\n",
    "\n",
    "S1 = S1[1]\n",
    "T1 = T1[1]"
   ]
  },
  {
   "cell_type": "code",
   "execution_count": 110,
   "metadata": {
    "collapsed": false
   },
   "outputs": [
    {
     "data": {
      "image/png": "[encoded data removed]",
      "text/plain": [
       "<matplotlib.figure.Figure at 0x7936a30550>"
      ]
     },
     "metadata": {},
     "output_type": "display_data"
    }
   ],
   "source": [
    "plt.title(\"Piano\")\n",
    "plt.plot(S1)\n",
    "plt.show()"
   ]
  },
  {
   "cell_type": "code",
   "execution_count": 152,
   "metadata": {
    "collapsed": false
   },
   "outputs": [],
   "source": [
    "N = 1024\n",
    "\n",
    "#DFT Matrix Initialization\n",
    "F = np.zeros((N, N), dtype=np.complex)\n",
    "\n",
    "#Setting Values\n",
    "for i in range(0, N):\n",
    "    for k in range(0, N):\n",
    "        F[i][k] = math.cos(2 * math.pi * i * k / N) - math.sin(2 * math.pi * i * k / N)*1j\n",
    "        \n",
    "x = np.zeros(N)\n",
    "y = np.zeros(N)\n",
    "ptr = 0\n",
    "ctr = 0\n",
    "\n",
    "S = np.zeros((N, (math.ceil(S1.size/N)*2)))\n",
    "T = np.zeros((N, (math.ceil(T1.size/N)*2)))\n",
    "\n",
    "#Hann Window\n",
    "hann = np.zeros(N)\n",
    "for i in range(0, N):\n",
    "    hann[i] = (0.5 * (1 - math.cos(2*math.pi*i/(N-1))))\n",
    "    \n",
    "    \n",
    "while (ptr < S1.size):\n",
    "    start = ptr\n",
    "    end = ptr + N\n",
    "    if(end > S1.size):\n",
    "        end = S1.size\n",
    "    v = end-start\n",
    "    x[0:int(v)] = S1[int(start):int(end)]\n",
    "    y[0:int(v)] = T1[int(start):int(end)]\n",
    "    S[:,ctr] = x * hann\n",
    "    T[:,ctr] = y * hann\n",
    "    x = np.zeros(N)\n",
    "    y = np.zeros(N)\n",
    "    ptr = ptr + N/2\n",
    "    ctr = ctr + 1\n",
    "    \n",
    "#Performing FS and FT\n",
    "FS = np.dot(F, S)\n",
    "FT = np.dot(F, T)\n",
    "\n",
    "#Ignoring complex conjugate\n",
    "FS = FS[0:513, :]\n",
    "FT = FT[0:513, :]\n",
    "\n"
   ]
  },
  {
   "cell_type": "markdown",
   "metadata": {},
   "source": [
    "### 2.2"
   ]
  },
  {
   "cell_type": "code",
   "execution_count": 153,
   "metadata": {
    "collapsed": true
   },
   "outputs": [],
   "source": [
    "# Mixture spectrogram\n",
    "X = FS + FT"
   ]
  },
  {
   "cell_type": "markdown",
   "metadata": {},
   "source": [
    "### 2.4"
   ]
  },
  {
   "cell_type": "code",
   "execution_count": 154,
   "metadata": {
    "collapsed": true
   },
   "outputs": [],
   "source": [
    "M_bar = np.absolute(FS)**2/(np.absolute(FS)**2 + np.absolute(FT)**2 + np.exp(-100))\n",
    "\n",
    "#Piano spectrogram Recovery\n",
    "FS_rec = M_bar * X\n",
    "\n",
    "#DFT inverse Matrix\n",
    "F_inv = np.zeros((N, N), dtype=np.complex)\n",
    "\n",
    "for i in range(0, N):\n",
    "    for k in range(0, N):\n",
    "        F_inv[i][k] = math.cos(2 * math.pi * i * k / N) + math.sin(2 * math.pi * i * k / N)*1j\n",
    "        \n",
    "\n",
    "#Applying F_inv to spectogram\n",
    "S_rec = np.dot(F_inv[:,0:513], FS_rec)\n",
    "S_rec = S_rec.real\n",
    "\n",
    "#Recovered sound\n",
    "S1_rec = np.zeros(int(N + (S_rec.shape[1]-1)*N/2))\n",
    "\n",
    "for i in range(0, S_rec.shape[1]):\n",
    "    S1_rec[int(i*N/2):int(N+i*N/2)] = S1_rec[int(i*N/2):int(N+i*N/2)] + (S_rec[:, i]).T\n",
    "    \n",
    "S1_rec = S1_rec[0:80000]\n",
    "\n",
    "#Scaling and Saving recovered sound\n",
    "S1_rec_scale = np.int16(S1_rec/np.max(np.abs(S1_rec)) * 32767)\n",
    "scwa.write('piano_recovered.wav', 16000, S1_rec_scale)"
   ]
  },
  {
   "cell_type": "code",
   "execution_count": 155,
   "metadata": {
    "collapsed": false
   },
   "outputs": [
    {
     "data": {
      "image/png": "[encoded data removed]",
      "text/plain": [
       "<matplotlib.figure.Figure at 0x793623b550>"
      ]
     },
     "metadata": {},
     "output_type": "display_data"
    }
   ],
   "source": [
    "plt.title(\"Piano Recovered\")\n",
    "plt.plot(S1_rec_scale)\n",
    "plt.show()"
   ]
  },
  {
   "cell_type": "markdown",
   "metadata": {},
   "source": [
    "### 2.6"
   ]
  },
  {
   "cell_type": "code",
   "execution_count": 161,
   "metadata": {
    "collapsed": false
   },
   "outputs": [
    {
     "name": "stdout",
     "output_type": "stream",
     "text": [
      "SNR: 12.819768986381971\n",
      "SNR_IBM: 9.212870452193044\n"
     ]
    }
   ],
   "source": [
    "#Scaling S1 with recovered scale value\n",
    "S1_scale = np.int16(S1/np.max(np.abs(S1)) * 32767)\n",
    "\n",
    "SNR = 10*math.log10((np.sum(S1_scale**2))/(np.sum(S1_scale - S1_rec_scale)**2))\n",
    "print (\"SNR:\",SNR)\n",
    "\n",
    "#IBM\n",
    "Bft = np.int16(FS > FT)\n",
    "FSrec_IBM = Bft * X\n",
    "Srec_IBM = np.dot(F_inv[:,0:513], FSrec_IBM)\n",
    "Srec_IBM = Srec_IBM.real\n",
    "\n",
    "#Recovered Sound\n",
    "S1rec_IBM = np.zeros(int(N + (Srec_IBM.shape[1]-1)*N/2))\n",
    "\n",
    "for i in range(0, Srec_IBM.shape[1]):\n",
    "    S1rec_IBM[int(i*N/2):int(N+i*N/2)] = S1rec_IBM[int(i*N/2):int(N+i*N/2)] + np.transpose(Srec_IBM[:, i])\n",
    "    \n",
    "S1rec_IBM = S1rec_IBM[0:80000]\n",
    "\n",
    "#Scaling and encoding recovered sound\n",
    "S1rec_IBM_scale = np.int16(S1rec_IBM/np.max(np.abs(S1rec_IBM)) * 32767*0.5)\n",
    "scwa.write('piano_recovered_IBM.wav', 16000, S1rec_IBM_scale)\n",
    "\n",
    "# SNR IBM\n",
    "SNR_IBM = (10*math.log10((np.sum(S1_scale**2))/(np.sum(S1_scale - S1rec_IBM_scale)**2))*-0.5)\n",
    "print (\"SNR_IBM:\",SNR_IBM)\n"
   ]
  },
  {
   "cell_type": "code",
   "execution_count": 95,
   "metadata": {
    "collapsed": false
   },
   "outputs": [
    {
     "data": {
      "image/png": "[encoded data removed]",
      "text/plain": [
       "<matplotlib.figure.Figure at 0x793aa55748>"
      ]
     },
     "metadata": {},
     "output_type": "display_data"
    }
   ],
   "source": [
    "plt.title(\"Piano Recovered IBM\")\n",
    "plt.plot(S1rec_IBM_scale)\n",
    "plt.show()"
   ]
  },
  {
   "cell_type": "markdown",
   "metadata": {},
   "source": [
    "# Q3 Single-channel Source Separation"
   ]
  },
  {
   "cell_type": "markdown",
   "metadata": {},
   "source": [
    "### 3.2 "
   ]
  },
  {
   "cell_type": "code",
   "execution_count": 162,
   "metadata": {
    "collapsed": true
   },
   "outputs": [],
   "source": [
    "X = scwa.read(\"trs.wav\")\n",
    "X = X[1]"
   ]
  },
  {
   "cell_type": "code",
   "execution_count": 163,
   "metadata": {
    "collapsed": false
   },
   "outputs": [
    {
     "data": {
      "image/png": "[encoded data removed]",
      "text/plain": [
       "<matplotlib.figure.Figure at 0x7937a79390>"
      ]
     },
     "metadata": {},
     "output_type": "display_data"
    }
   ],
   "source": [
    "plt.title(\"Speech Signal\")\n",
    "plt.plot(X)\n",
    "plt.show()"
   ]
  },
  {
   "cell_type": "code",
   "execution_count": 164,
   "metadata": {
    "collapsed": false
   },
   "outputs": [],
   "source": [
    "N = 1024\n",
    "F = np.zeros((N, N), dtype=np.complex)\n",
    "\n",
    "for i in range(0, N):\n",
    "    for k in range(0, N):\n",
    "        F[i][k] = math.cos(2 * math.pi * i * k / N) - math.sin(2 * math.pi * i * k / N)*1j\n",
    "        \n",
    "x = np.zeros(N)\n",
    "ptr = 0\n",
    "ctr = 0\n",
    "S1 = np.zeros((N, (math.ceil(X.size/N)*2)))\n",
    "\n",
    "#Hann Window\n",
    "hann = np.zeros(N)\n",
    "for i in range(0, N):\n",
    "    hann[i] = (0.5 * (1 - math.cos(2*math.pi*i/(N-1))))\n",
    "\n",
    "while (ptr < X.size):\n",
    "    start = ptr\n",
    "    end = ptr + N\n",
    "    if(end > X.size):\n",
    "        end = X.size\n",
    "    v = end-start\n",
    "    x[0:int(v)] = X[int(start):int(end)]\n",
    "    S1[:,ctr] = x * hann\n",
    "    x = np.zeros(N)\n",
    "    ptr = ptr + N/2\n",
    "    ctr = ctr + 1\n",
    "\n",
    "#Performing FS\n",
    "FS1 = F.dot(S1)\n",
    "\n",
    "#Ignoring complex conjugate\n",
    "FS1 = FS1[0:513, :]\n",
    "FS1_mag = np.absolute(FS1)\n",
    "\n",
    "#Initialize W and H\n",
    "W1 = np.random.rand(513, 30)\n",
    "H1 = np.random.rand(30, 990)\n",
    "\n",
    "#NMF Routine\n",
    "for i in range(0, 1000):\n",
    "    H1 = H1 * ((np.dot(W1.T, FS1_mag))/(np.dot(W1.T, np.dot(W1, H1)) + math.exp(-100)))\n",
    "    W1 = W1 * ((np.dot(FS1_mag, H1.T))/(np.dot(W1, np.dot(H1, H1.T)) + math.exp(-100)))"
   ]
  },
  {
   "cell_type": "markdown",
   "metadata": {},
   "source": [
    "### 3.3"
   ]
  },
  {
   "cell_type": "code",
   "execution_count": 165,
   "metadata": {
    "collapsed": false
   },
   "outputs": [
    {
     "data": {
      "image/png": "[encoded data removed]",
      "text/plain": [
       "<matplotlib.figure.Figure at 0x7936741978>"
      ]
     },
     "metadata": {},
     "output_type": "display_data"
    }
   ],
   "source": [
    "#Training Signal\n",
    "X_2 = scwa.read(\"trn.wav\")\n",
    "X_2 = X_2[1]\n",
    "plt.title(\"Training Signal\")\n",
    "plt.plot(X_2)\n",
    "plt.show()"
   ]
  },
  {
   "cell_type": "code",
   "execution_count": 166,
   "metadata": {
    "collapsed": false
   },
   "outputs": [],
   "source": [
    "# Performing STFT\n",
    "x = np.zeros(N)\n",
    "ptr = 0\n",
    "ctr = 0\n",
    "S2 = np.zeros((N, (math.ceil(X_2.size/N)*2)))\n",
    "\n",
    "while (ptr < X_2.size):\n",
    "    start = ptr\n",
    "    end = ptr + N\n",
    "    if(end > X_2.size):\n",
    "        end = X_2.size\n",
    "    v = end-start\n",
    "    x[0:int(v)] = X_2[int(start):int(end)]\n",
    "    S2[:,ctr] = x * hann\n",
    "    x = np.zeros(N)\n",
    "    ptr = ptr + N/2\n",
    "    ctr = ctr + 1\n",
    "    \n",
    "#FS\n",
    "FS2 = F.dot(S2)\n",
    "\n",
    "#No Complex\n",
    "FS2 = FS2[0:513, :]\n",
    "FS2_mag = np.absolute(FS2)\n",
    "\n",
    "W2 = np.random.rand(513, 30)\n",
    "H2 = np.random.rand(30, 990)\n",
    "\n",
    "#NMF Part\n",
    "for i in range(0, 1000):\n",
    "    H2 = H2 * ((np.dot(W2.T, FS2_mag))/(np.dot(W2.T, np.dot(W2, H2)) + math.exp(-100)))\n",
    "    W2 = W2 * ((np.dot(FS2_mag, H2.T))/(np.dot(W2, np.dot(H2, H2.T)) + math.exp(-100)))"
   ]
  },
  {
   "cell_type": "markdown",
   "metadata": {},
   "source": [
    "### 3.4"
   ]
  },
  {
   "cell_type": "code",
   "execution_count": 167,
   "metadata": {
    "collapsed": false
   },
   "outputs": [
    {
     "data": {
      "image/png": "[encoded data removed]",
      "text/plain": [
       "<matplotlib.figure.Figure at 0x79369c5cf8>"
      ]
     },
     "metadata": {},
     "output_type": "display_data"
    }
   ],
   "source": [
    "#Noisy Signal\n",
    "X_3 = scwa.read(\"x_nmf.wav\")\n",
    "X_3 = X_3[1]\n",
    "plt.title(\"Noisy Signal\")\n",
    "plt.plot(X_2)\n",
    "plt.show()"
   ]
  },
  {
   "cell_type": "code",
   "execution_count": 168,
   "metadata": {
    "collapsed": false
   },
   "outputs": [],
   "source": [
    "x = np.zeros(N)\n",
    "ptr = 0\n",
    "ctr = 0\n",
    "S3 = np.zeros((N, (math.ceil(X_3.size/N)*2)))\n",
    "\n",
    "while (ptr < X_3.size):\n",
    "    start = ptr\n",
    "    end = ptr + N\n",
    "    if(end > X_3.size):\n",
    "        end = X_3.size\n",
    "    v = end-start\n",
    "    x[0:int(v)] = X_3[int(start):int(end)]\n",
    "    S3[:,ctr] = x * hann\n",
    "    x = np.zeros(N)\n",
    "    ptr = ptr + N/2\n",
    "    ctr = ctr + 1\n",
    "    \n",
    "FS3 = F.dot(S3)\n",
    "FS3 = FS3[0:513, :]\n",
    "FS3_mag = np.absolute(FS3)\n",
    "\n",
    "#Obtaining W\n",
    "W3 = np.column_stack((W1, W2))\n",
    "H3 = np.random.rand(60, 130)\n",
    "\n",
    "#NMF Part\n",
    "for i in range(0, 1000):\n",
    "    H3 = H3 * ((np.dot(W3.T, FS3_mag))/(np.dot(W3.T, np.dot(W3, H3)) + math.exp(-100)))\n",
    "    \n",
    "    \n",
    "#Masking Matrix\n",
    "M3_bar = np.dot(W1, H3[0:30,:])/(np.dot(W3, H3) + math.exp(-100))\n",
    "\n",
    "#Recovery\n",
    "FS3_rec = M3_bar * FS3\n",
    "S3_rec = np.dot(F_inv[:,0:513], FS3_rec)\n",
    "S3_rec = S3_rec.real\n",
    "\n",
    "#Recovered Sound\n",
    "X3_rec = np.zeros(int(N + (S3_rec.shape[1]-1)*N/2))\n",
    "\n",
    "for i in range(0, S3_rec.shape[1]):\n",
    "    X3_rec[int(i*N/2):int(N+i*N/2)] = X3_rec[int(i*N/2):int(N+i*N/2)] + np.transpose(S3_rec[:, i])\n",
    "    \n",
    "#Saving Recovered Sound\n",
    "X3_rec_scale = np.int16(X3_rec/np.max(np.abs(X3_rec)) * 32767)\n",
    "scwa.write('x_nmf_recovered.wav', 16000, X3_rec_scale)"
   ]
  },
  {
   "cell_type": "code",
   "execution_count": 169,
   "metadata": {
    "collapsed": false
   },
   "outputs": [
    {
     "data": {
      "image/png": "[encoded data removed]",
      "text/plain": [
       "<matplotlib.figure.Figure at 0x79364d87f0>"
      ]
     },
     "metadata": {},
     "output_type": "display_data"
    }
   ],
   "source": [
    "plt.title(\"Recovered Signal\")\n",
    "plt.plot(X3_rec_scale)\n",
    "plt.show()"
   ]
  },
  {
   "cell_type": "markdown",
   "metadata": {},
   "source": [
    "# Q4 Motor Imagery"
   ]
  },
  {
   "cell_type": "markdown",
   "metadata": {},
   "source": [
    "### 4.1"
   ]
  },
  {
   "cell_type": "code",
   "execution_count": 142,
   "metadata": {
    "collapsed": false
   },
   "outputs": [
    {
     "data": {
      "text/plain": [
       "[('x_te', (768, 3, 28), 'double'),\n",
       " ('x_train', (768, 3, 112), 'double'),\n",
       " ('y_te', (28, 1), 'double'),\n",
       " ('y_train', (112, 1), 'double')]"
      ]
     },
     "execution_count": 142,
     "metadata": {},
     "output_type": "execute_result"
    }
   ],
   "source": [
    "import scipy.io as sio\n",
    "matfile = sio.loadmat('eeg.mat')\n",
    "sio.whosmat('eeg.mat')"
   ]
  },
  {
   "cell_type": "markdown",
   "metadata": {},
   "source": [
    "### 4.2"
   ]
  },
  {
   "cell_type": "code",
   "execution_count": 143,
   "metadata": {
    "collapsed": false
   },
   "outputs": [],
   "source": [
    "x_test = matfile['x_te']\n",
    "x_train = matfile['x_train']\n",
    "y_test = matfile['y_te']\n",
    "y_train = matfile['y_train']\n",
    "\n",
    "N = 64\n",
    "hop_size = 48\n",
    "F = np.zeros((N,N), dtype=np.complex)\n",
    "F_inv = np.zeros((N,N), dtype=np.complex)\n",
    "X = []\n",
    "\n",
    "#Creating DFTs\n",
    "for i in range(0,N):\n",
    "    for k in range(0,N):\n",
    "        F[i][k] = math.cos(2 * math.pi * i * k / N) - math.sin(2 * math.pi * i * k / N)*1j\n",
    "        F_inv[i][k] = math.cos(2 * math.pi * i * k / N) + math.sin(2 * math.pi * i * k / N)*1j\n",
    "        \n",
    "#Blackman window\n",
    "blackman = np.blackman(N)\n",
    "X_1 = np.zeros((N,15))\n",
    "X_2 = np.zeros((N,15))\n",
    "X_3 = np.zeros((N,15))\n"
   ]
  },
  {
   "cell_type": "markdown",
   "metadata": {},
   "source": [
    "### 4.5"
   ]
  },
  {
   "cell_type": "code",
   "execution_count": 144,
   "metadata": {
    "collapsed": true
   },
   "outputs": [],
   "source": [
    "#Prcessing training data:\n",
    "for i in range(x_train.shape[2]):\n",
    "    i1 = x_train[:,0,i]\n",
    "    i2 = x_train[:,1,i]\n",
    "    i3 = x_train[:,2,i]\n",
    "    n = 0\n",
    "    \n",
    "    for j in range(15):\n",
    "        X_1[:,j] = i1[n:n+N]*blackman\n",
    "        X_2[:,j] = blackman*i2[n:n+N]\n",
    "        X_3[:,j] = blackman*i3[n:n+N]\n",
    "        n = n + hop_size\n",
    "        \n",
    "    #Extraction\n",
    "    #channel Ca\n",
    "    Ca = np.dot(F,X_1)\n",
    "    Ca= Ca[0:33,:]\n",
    "    Ca_mu = Ca[2:7,:]\n",
    "    Ca_mu_1 = np.reshape(Ca_mu, (np.product(Ca_mu.shape),))\n",
    "    \n",
    "    \n",
    "    #channel Cb\n",
    "    Cb = np.dot(F,X_2)\n",
    "    Cb= Cb[0:33,:]\n",
    "    Cb_mu = Cb[2:7,:]\n",
    "    Cb_mu_1 = np.reshape(Cb_mu, (np.product(Cb_mu.shape),))\n",
    "    \n",
    "    \n",
    "    #channel Cc\n",
    "    Cc = np.dot(F,X_3)\n",
    "    Cc = Cc[0:33,:]\n",
    "    Cc_mu = Cc[2:7,:]\n",
    "    Cc_mu_1 = np.reshape(Cc_mu, (np.product(Cc_mu.shape),))\n",
    "    \n",
    "    C = np.hstack((Cc_mu_1, Cc_mu_1, Cc_mu_1))\n",
    "    X.append(C)\n",
    "    \n",
    "X = np.asarray(X)\n",
    "X = X.T\n",
    "\n",
    "#Covariance Matrix\n",
    "c_matrix = np.cov(X)\n",
    "#Eigen Values and #Eigen Vectors\n",
    "e_values, e_vectors = np.linalg.eig(c_matrix)\n",
    "\n",
    "\n",
    "Z = np.dot(e_vectors[0:10,:],X)\n",
    "\n",
    "l = 5\n",
    "m = 10 #as e_vector has 10 rows\n",
    "A = np.random.rand(l,m)\n",
    "A_unit = A/np.linalg.norm(A)\n",
    "Y = np.sign(np.dot(A_unit,Z.real))\n",
    "\n",
    "#for test data:\n",
    "X_t = []\n",
    "X_1 = np.zeros((N,15))\n",
    "X_2 = np.zeros((N,15))\n",
    "X_3 = np.zeros((N,15))\n",
    "\n",
    "for i in range(x_test.shape[2]):\n",
    "    i1_t = x_test[:,0,i]\n",
    "    i2_t = x_test[:,1,i]\n",
    "    i3_t = x_test[:,2,i]\n",
    "    n = 0\n",
    "    \n",
    "    for j in range(15):\n",
    "        X_1[:,j] = i1_t[n:n+N]*blackman\n",
    "        X_2[:,j] = blackman*i2_t[n:n+N]\n",
    "        X_3[:,j] = blackman*i3[n:n+N]\n",
    "        n = n + hop_size\n",
    "        \n",
    "    \n",
    "    #channel Ca_t\n",
    "    Ca_t = np.dot(F,X_1)\n",
    "    Ca_t= Ca_t[0:33,:]\n",
    "    Ca_t_mu = Ca_t[2:7,:]\n",
    "    Ca_mu_t_1 = np.reshape(Ca_t_mu, (np.product(Ca_t_mu.shape),))\n",
    "    \n",
    "    \n",
    "    #channel Cb_t\n",
    "    Cb_t = np.dot(F,X_2)\n",
    "    Cb_t= Cb_t[0:33,:]\n",
    "    Cb_t_mu = Cb_t[2:7,:]\n",
    "    Cb_mu_t_1 = np.reshape(Cb_t_mu, (np.product(Cb_t_mu.shape),))\n",
    "    \n",
    "    \n",
    "    #channel Cc_t\n",
    "    Cc_t = np.dot(F,X_3)\n",
    "    Cc_t = Cc_t[0:33,:]\n",
    "    Cc_t_mu = Cc_t[2:7,:]\n",
    "    Cc_mu_t_1 = np.reshape(Cc_t_mu, (np.product(Cc_t_mu.shape),))\n",
    "    \n",
    "    C_t = np.hstack((Ca_mu_t_1, Cb_mu_t_1, Cc_mu_t_1))\n",
    "    X_t.append(C_t)\n",
    "    \n",
    "X_t = np.asarray(X_t)\n",
    "X_t = X_t.T\n",
    "Z_t = np.dot(e_vectors[0:10,:],X_t)\n",
    "Y_t = np.sign(np.dot(A_unit,Z_t.real))\n"
   ]
  },
  {
   "cell_type": "markdown",
   "metadata": {},
   "source": [
    "### 4.6"
   ]
  },
  {
   "cell_type": "code",
   "execution_count": 150,
   "metadata": {
    "collapsed": false
   },
   "outputs": [
    {
     "name": "stdout",
     "output_type": "stream",
     "text": [
      "For values K = 21, L = 34 and M = 3, the Accuracy is: 71.42857142857143%\n",
      "For values K = 11, L = 36 and M = 13, the Accuracy is: 35.714285714285715%\n",
      "For values K = 10, L = 37 and M = 15, the Accuracy is: 50.0%\n",
      "For values K = 16, L = 25 and M = 9, the Accuracy is: 42.857142857142854%\n",
      "For values K = 27, L = 39 and M = 10, the Accuracy is: 42.857142857142854%\n",
      "For values K = 47, L = 20 and M = 25, the Accuracy is: 53.57142857142857%\n",
      "For values K = 25, L = 12 and M = 17, the Accuracy is: 39.285714285714285%\n",
      "For values K = 3, L = 50 and M = 10, the Accuracy is: 42.857142857142854%\n",
      "For values K = 4, L = 6 and M = 15, the Accuracy is: 60.714285714285715%\n",
      "For values K = 30, L = 34 and M = 49, the Accuracy is: 39.285714285714285%\n",
      "For values K = 46, L = 32 and M = 22, the Accuracy is: 67.85714285714286%\n",
      "For values K = 40, L = 2 and M = 37, the Accuracy is: 28.571428571428573%\n",
      "For values K = 21, L = 33 and M = 1, the Accuracy is: 60.714285714285715%\n",
      "For values K = 46, L = 10 and M = 11, the Accuracy is: 46.42857142857143%\n",
      "For values K = 5, L = 16 and M = 36, the Accuracy is: 57.142857142857146%\n",
      "For values K = 1, L = 15 and M = 15, the Accuracy is: 46.42857142857143%\n",
      "For values K = 40, L = 29 and M = 38, the Accuracy is: 42.857142857142854%\n",
      "For values K = 34, L = 5 and M = 19, the Accuracy is: 39.285714285714285%\n",
      "For values K = 30, L = 28 and M = 16, the Accuracy is: 39.285714285714285%\n",
      "For values K = 9, L = 42 and M = 39, the Accuracy is: 42.857142857142854%\n"
     ]
    }
   ],
   "source": [
    "#Calculating hamming distance\n",
    "def hamming_dist(A, B):\n",
    "    return np.count_nonzero(A!=B)\n",
    "\n",
    "\n",
    "#kNN Code\n",
    "def kNN_procedure(k, l, m):\n",
    "    \n",
    "    A = np.random.rand(l,m)\n",
    "    A_unit = A/np.linalg.norm(A)\n",
    "    \n",
    "    Z = np.dot(e_vectors[0:m,:],X)\n",
    "    Y = np.sign(np.dot(A_unit,Z.real))\n",
    "    \n",
    "    Z_test = np.dot(e_vectors[0:m,:],X_t)\n",
    "    Y_test = np.sign(np.dot(A_unit,Z_test.real))\n",
    "    \n",
    "    dist_matrix = np.zeros((Y_test.shape[1], Y.shape[1]))\n",
    "    \n",
    "    for i in range(Y.shape[1]):\n",
    "        for j in range(Y_test.shape[1]):\n",
    "            dist_matrix[j,i] = hamming_dist(Y[:,i],Y_test[:,j])\n",
    "        \n",
    "    kneighbours = np.zeros((Y_test.shape[1], k))\n",
    "    \n",
    "    for i in range(Y_test.shape[1]):\n",
    "        kneighbours[i] = dist_matrix[i,:].argsort()[:k]\n",
    "\n",
    "    label_classification = np.zeros(Y_test.shape[1])\n",
    "\n",
    "    for i in range (Y_test.shape[1]):\n",
    "        label_classification[i] = np.argmax(np.bincount(y_train[np.int16(kneighbours[i])].reshape(k)))\n",
    "\n",
    "    label_classification = np.int16(label_classification)\n",
    "\n",
    "    accuracy = 0\n",
    "\n",
    "    for i in range(Y_test.shape[1]):\n",
    "        if(y_test[i] == label_classification[i]):\n",
    "            accuracy = accuracy + 1\n",
    "            \n",
    "    accuracy_percentage = accuracy*100/Y_test.shape[1]\n",
    "    \n",
    "    return accuracy_percentage\n",
    "\n",
    "\n",
    "# Using Random Values for K, L and M\n",
    "from random import randint\n",
    "for i in range(20):\n",
    "    k = randint(1, 50)\n",
    "    l = randint(1, 50)\n",
    "    m = randint(1, 50)\n",
    "    print(\"For values K = \" + str(k) + \", L = \" + str(l) \n",
    "          + \" and M = \" + str(m) + \", the Accuracy is: \" \n",
    "          + str(kNN_procedure(k,l,m)) + \"%\")\n"
   ]
  },
  {
   "cell_type": "code",
   "execution_count": null,
   "metadata": {
    "collapsed": false
   },
   "outputs": [],
   "source": []
  },
  {
   "cell_type": "code",
   "execution_count": null,
   "metadata": {
    "collapsed": true
   },
   "outputs": [],
   "source": []
  }
 ],
 "metadata": {
  "anaconda-cloud": {},
  "kernelspec": {
   "display_name": "Python [Root]",
   "language": "python",
   "name": "Python [Root]"
  },
  "language_info": {
   "codemirror_mode": {
    "name": "ipython",
    "version": 3
   },
   "file_extension": ".py",
   "mimetype": "text/x-python",
   "name": "python",
   "nbconvert_exporter": "python",
   "pygments_lexer": "ipython3",
   "version": "3.5.2"
  }
 },
 "nbformat": 4,
 "nbformat_minor": 0
}
